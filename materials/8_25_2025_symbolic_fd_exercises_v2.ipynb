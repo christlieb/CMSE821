{
 "cells": [
  {
   "cell_type": "markdown",
   "id": "6c17af6d",
   "metadata": {},
   "source": [
    "\n",
    "# Symbolic Manipulation and Finite Differences in Python\n",
    "**A hands-on exercise notebook**  \n",
    "Created: 2025-08-22\n",
    "\n",
    "This notebook takes you from SymPy basics -> Taylor expansions -> deriving finite-difference stencils -> building and testing a 1D Poisson solver, with optional extensions. You'll implement small functions, run checks, and explore symbolic tooling that makes numerical methods cleaner and safer.\n"
   ]
  },
  {
   "cell_type": "markdown",
   "id": "95b7afee",
   "metadata": {},
   "source": [
    "\n",
    "## Learning objectives\n",
    "By the end, you will be able to:\n",
    "- Manipulate symbolic expressions in SymPy (`symbols`, `expand`, `factor`, `subs`, `diff`, `series`, `lambdify`).\n",
    "- Derive finite-difference weights from Taylor/moment conditions on arbitrary (even nonuniform) stencils.\n",
    "- Find the order and the leading truncation-error (TE) constant of a stencil.\n",
    "- Assemble and solve a 1D Poisson boundary-value problem with SciPy sparse.\n",
    "- (Optional) Handle one-sided stencils for boundaries, and verify a simple heat-equation stability condition.\n"
   ]
  },
  {
   "cell_type": "markdown",
   "id": "540578e2",
   "metadata": {},
   "source": [
    "\n",
    "## 0) Setup\n",
    "If needed, install packages (you can re-run safely):\n"
   ]
  },
  {
   "cell_type": "code",
   "execution_count": 1,
   "id": "eea3d948",
   "metadata": {},
   "outputs": [
    {
     "name": "stdout",
     "output_type": "stream",
     "text": [
      "SymPy: 1.10.1 | NumPy: 1.21.5\n"
     ]
    }
   ],
   "source": [
    "\n",
    "# If running locally and you need packages, uncomment:\n",
    "# !pip install sympy numpy scipy matplotlib\n",
    "import sympy as sp\n",
    "import numpy as np\n",
    "from scipy.sparse import diags, kron, eye\n",
    "from scipy.sparse.linalg import spsolve\n",
    "print(\"SymPy:\", sp.__version__, \"| NumPy:\", np.__version__)\n"
   ]
  },
  {
   "cell_type": "markdown",
   "id": "8eb6e4e9",
   "metadata": {},
   "source": [
    "\n",
    "## 1) SymPy basics (warm-up)\n",
    "Complete the tasks and run the checks. If an assertion fails, adjust your code until it passes.\n",
    "Tip: Keep everything symbolic (avoid floats) unless asked.\n"
   ]
  },
  {
   "cell_type": "code",
   "execution_count": 2,
   "id": "4ed7cc81",
   "metadata": {},
   "outputs": [
    {
     "data": {
      "text/plain": [
       "(x**3 + 6*x**2*y - x**2 + 12*x*y**2 + 8*y**3 + y**2,\n",
       " x**3 + 6*x**2*y - x**2 + 12*x*y**2 + 8*y**3 + y**2)"
      ]
     },
     "execution_count": 2,
     "metadata": {},
     "output_type": "execute_result"
    }
   ],
   "source": [
    "\n",
    "# 1.1 Symbols and expressions\n",
    "x, y, h = sp.symbols('x y h')\n",
    "a, b = sp.symbols('a b', nonzero=True)  # example symbols with assumptions\n",
    "\n",
    "# Build a polynomial to play with:\n",
    "expr = (x + 2*y)**3 - (x - y)*(x + y)\n",
    "\n",
    "# TODO: Expand expr, then factor it back. Store results in expr_expanded, expr_factored\n",
    "expr_expanded = sp.expand(expr)  # TODO: confirm/modify as needed\n",
    "expr_factored = sp.factor(expr_expanded)  # TODO\n",
    "\n",
    "# Checks\n",
    "assert expr_expanded == sp.expand(expr)\n",
    "assert sp.expand(expr_factored) == expr_expanded\n",
    "expr_expanded, expr_factored\n"
   ]
  },
  {
   "cell_type": "code",
   "execution_count": 3,
   "id": "28573443",
   "metadata": {},
   "outputs": [
    {
     "data": {
      "text/latex": [
       "$\\displaystyle 128$"
      ],
      "text/plain": [
       "128"
      ]
     },
     "execution_count": 3,
     "metadata": {},
     "output_type": "execute_result"
    }
   ],
   "source": [
    "\n",
    "# 1.2 Substitution and evaluation\n",
    "# Task: Substitute x=1, y=2 into expr and store as val_12 (as an exact integer if possible).\n",
    "val_12 = expr.subs({x: 1, y: 2})\n",
    "assert val_12 == expr.subs({x: 1, y: 2})\n",
    "val_12\n"
   ]
  },
  {
   "cell_type": "code",
   "execution_count": 4,
   "id": "6d3947cf",
   "metadata": {},
   "outputs": [
    {
     "data": {
      "text/plain": [
       "(a*cos(a*x), -a**2*sin(a*x))"
      ]
     },
     "execution_count": 4,
     "metadata": {},
     "output_type": "execute_result"
    }
   ],
   "source": [
    "\n",
    "# 1.3 Differentiation\n",
    "# Task: Compute first and second derivatives of sin(a*x) w.r.t. x.\n",
    "f = sp.sin(a*x)\n",
    "f1 = sp.diff(f, x)     # TODO\n",
    "f2 = sp.diff(f, x, 2)  # TODO\n",
    "assert sp.simplify(f1 - a*sp.cos(a*x)) == 0\n",
    "assert sp.simplify(f2 + a**2*sp.sin(a*x)) == 0  # f'' = -a^2 sin(ax)\n",
    "f1, f2\n"
   ]
  },
  {
   "cell_type": "code",
   "execution_count": 5,
   "id": "4339cef7",
   "metadata": {},
   "outputs": [
    {
     "data": {
      "text/latex": [
       "$\\displaystyle \\sin{\\left(x \\right)} + h \\cos{\\left(x \\right)} - \\frac{h^{2} \\sin{\\left(x \\right)}}{2} - \\frac{h^{3} \\cos{\\left(x \\right)}}{6} + \\frac{h^{4} \\sin{\\left(x \\right)}}{24} + \\frac{h^{5} \\cos{\\left(x \\right)}}{120} + O\\left(h^{6}\\right)$"
      ],
      "text/plain": [
       "sin(x) + h*cos(x) - h**2*sin(x)/2 - h**3*cos(x)/6 + h**4*sin(x)/24 + h**5*cos(x)/120 + O(h**6)"
      ]
     },
     "execution_count": 5,
     "metadata": {},
     "output_type": "execute_result"
    }
   ],
   "source": [
    "\n",
    "# 1.4 Series expansion\n",
    "# Task: Expand sin(x+h) as a series in h around h=0 up to O(h^6).\n",
    "series_sin = sp.series(sp.sin(x + h), h, 0, 6)\n",
    "series_sin\n"
   ]
  },
  {
   "cell_type": "code",
   "execution_count": 15,
   "id": "e947f205",
   "metadata": {},
   "outputs": [
    {
     "name": "stdout",
     "output_type": "stream",
     "text": [
      "0.995004166666667*sin(x) + 0.0998334166666667*cos(x)  and a val  0.891207361240655\n"
     ]
    }
   ],
   "source": [
    "#a simple way to convert the series to numical values\n",
    "# 1) Drop the big-O term → pure polynomial in h\n",
    "poly = series_sin.removeO()\n",
    "val_h = sp.N(poly.subs(h, 0.1))  \n",
    "\n",
    "# 2) Plug in x=1 (still a polynomial in h)\n",
    "poly_x1 = sp.simplify(poly.subs(x, 1))\n",
    "\n",
    "# 3a) Get a single numeric value by also setting h\n",
    "val_h_0p1 = sp.N(poly_x1.subs(h, 0.1))   # or float(...)\n",
    "print(val_h,' and a val ',val_h_0p1)"
   ]
  },
  {
   "cell_type": "code",
   "execution_count": 6,
   "id": "24602020",
   "metadata": {},
   "outputs": [
    {
     "data": {
      "text/plain": [
       "array([ 0.01758613, -0.36419789,  1.        , -0.36419789,  0.01758613])"
      ]
     },
     "execution_count": 6,
     "metadata": {},
     "output_type": "execute_result"
    }
   ],
   "source": [
    "\n",
    "# 1.5 Lambdify: turn symbolic into numeric functions\n",
    "# Task: Create a fast numeric function from g(x) = exp(-x**2) * cos(3x).\n",
    "g = sp.exp(-x**2) * sp.cos(3*x)\n",
    "g_num = sp.lambdify(x, g, \"numpy\")\n",
    "xs = np.linspace(-2, 2, 5)\n",
    "vals = g_num(xs)  # should be a NumPy array\n",
    "vals\n"
   ]
  },
  {
   "cell_type": "markdown",
   "id": "7c349c02",
   "metadata": {},
   "source": [
    "\n",
    "## 2) Taylor series and moment matching for FD stencils\n",
    "We approximate $f^{(d)}(x)$ by\n",
    "    $$f^{(d)}(x) ~= (1/h)^d  \\sum_j c_j \\times f(x + s_j \\times h).$$\n",
    "The coefficients c_j are chosen so that the first m \"moments\" match:\n",
    "$\\sum_j c_j \\times s_j^k = 0$ for $k != d$ and $\\sum_j c_j \\times s_j^d = d!$, for k = 0..m-1.\n",
    "Fill in the functions below.\n"
   ]
  },
  {
   "cell_type": "code",
   "execution_count": 13,
   "id": "8b23f102",
   "metadata": {},
   "outputs": [
    {
     "name": "stdout",
     "output_type": "stream",
     "text": [
      "Matrix([[1], [-2], [1]])\n",
      "FD approx: 0.540302305868073  | true: 0.5403023058681398\n"
     ]
    }
   ],
   "source": [
    "\n",
    "# 2.1 Implement finite-difference weights via moment matching\n",
    "def _to_sympy_exact(s):\n",
    "    # Try to keep integers/rationals exact; fall back to nsimplify\n",
    "    try:\n",
    "        return sp.nsimplify(s)\n",
    "    except Exception:\n",
    "        return sp.sympify(s)\n",
    "\n",
    "def fd_weights(offsets, d):\n",
    "    '''\n",
    "    offsets: list/tuple of offsets s_j measured in grid steps (can be non-integers)\n",
    "    d: derivative order (0 for identity, 1 for first derivative, 2 for second, ...)\n",
    "    returns: sympy Matrix [c_j] with exact rational/closed forms where possible\n",
    "    '''\n",
    "    m = len(offsets)\n",
    "    sym_off = [_to_sympy_exact(s) for s in offsets]\n",
    "    # Build A_{k,j} = s_j**k, b_k = 0 except b_d = d!\n",
    "    A = sp.Matrix([[sym_off[j]**k for j in range(m)] for k in range(m)])\n",
    "    b = sp.Matrix([0]*m)\n",
    "    b[d] = sp.factorial(d)\n",
    "    c = A.LUsolve(b)\n",
    "    return sp.simplify(c)\n",
    "\n",
    "# Quick checks on known stencils (you can add more)\n",
    "c1 = fd_weights([-1,0,1], d=2)  # classic 2nd derivative\n",
    "assert list(c1) == [1, -2, 1]\n",
    "# Check against a known function: f(x)=sin(x) ⇒ f'(x)=cos(x)\n",
    "import numpy as np\n",
    "x0 = 1.0\n",
    "hval = 1e-3\n",
    "offs = [-2,-1,0,1,2]\n",
    "approx = sum(c2[j]*np.sin(x0 + offs[j]*hval) for j in range(len(offs))) / hval\n",
    "print(\"FD approx:\", approx, \" | true:\", np.cos(x0))\n",
    "\n"
   ]
  },
  {
   "cell_type": "code",
   "execution_count": 14,
   "id": "64da8e48",
   "metadata": {},
   "outputs": [
    {
     "name": "stdout",
     "output_type": "stream",
     "text": [
      "Matrix([[1], [-2], [1]])\n"
     ]
    },
    {
     "data": {
      "text/plain": [
       "(2, 1/12)"
      ]
     },
     "execution_count": 14,
     "metadata": {},
     "output_type": "execute_result"
    }
   ],
   "source": [
    "\n",
    "# 2.2 Implement leading truncation-error inspector\n",
    "def leading_error_constant(offsets, d):\n",
    "    '''\n",
    "    Returns (p, C_p) such that TE ~ C_p * h**p * f^(d+p)(x).\n",
    "    '''\n",
    "    c = fd_weights(offsets, d)\n",
    "    m = len(offsets)\n",
    "    sym_off = [sp.nsimplify(s) for s in offsets]\n",
    "    k = m\n",
    "    while True:\n",
    "        mom = sum(c[j] * sym_off[j]**k for j in range(m))\n",
    "        if sp.simplify(mom) != 0:\n",
    "            p = k - d\n",
    "            Cp = sp.simplify(mom / sp.factorial(k))\n",
    "            return int(p), Cp\n",
    "        k += 1\n",
    "\n",
    "# Check: 3-point second derivative has order 2 and TE const = 1/12\n",
    "p_test, C_test = leading_error_constant([-1,0,1], d=2)\n",
    "assert p_test == 2 and sp.simplify(C_test - sp.Rational(1,12)) == 0\n",
    "p_test, C_test\n"
   ]
  },
  {
   "cell_type": "markdown",
   "id": "bbad9dd7",
   "metadata": {},
   "source": [
    "\n",
    "### 2.3 Exercises\n",
    "1) Use `fd_weights([-2,-1,0,1,2], d=2)` to get a 5-point fourth-order second-derivative stencil. Verify its order with `leading_error_constant`.\n",
    "\n",
    "2) Derive a third-order one-sided first-derivative stencil at a boundary using offsets `[0, 1, 2, 3]`. What is the TE order and constant?\n",
    "\n",
    "3) Try a nonuniform first-derivative stencil with offsets `[0, 0.5, 1.5]`. What order do you get?\n"
   ]
  },
  {
   "cell_type": "code",
   "execution_count": null,
   "id": "7c92eaee",
   "metadata": {},
   "outputs": [],
   "source": [
    "\n",
    "# Your work for 2.3 here. Feel free to add cells.\n",
    "w_5pt_d2 = fd_weights([-2,-1,0,1,2], d=2)\n",
    "order_5pt_d2, C_5pt_d2 = leading_error_constant([-2,-1,0,1,2], d=2)\n",
    "\n",
    "w_one_sided = fd_weights([0,1,2,3], d=1)\n",
    "order_one_sided, C_one_sided = leading_error_constant([0,1,2,3], d=1)\n",
    "\n",
    "w_nonuniform = fd_weights([0, 0.5, 1.5], d=1)\n",
    "order_nonuniform, C_nonuniform = leading_error_constant([0, 0.5, 1.5], d=1)\n",
    "\n",
    "w_5pt_d2, (order_5pt_d2, C_5pt_d2), w_one_sided, (order_one_sided, C_one_sided), w_nonuniform, (order_nonuniform, C_nonuniform)\n"
   ]
  },
  {
   "cell_type": "markdown",
   "id": "a0e1f52c",
   "metadata": {},
   "source": [
    "\n",
    "## 3) 1D Poisson with Dirichlet BCs\n",
    "Solve -u''(x) = f(x) on [0,1] with u(0)=u(1)=0. We'll use a manufactured solution u(x)=sin(pi x) so f(x)=pi^2 sin(pi x).\n",
    "Task: Implement the solver\n",
    "- Build grid x of length n+2 with spacing h=1/(n+1).\n",
    "- Assemble sparse tridiagonal matrix A = (1/h**2) * diag([-1, 2, -1]) for interior unknowns.\n",
    "- Build RHS b = f(x_i) at interior points.\n",
    "- Solve, insert Dirichlet boundaries, and return (x, u, u_true, err_inf) where err_inf is the max-norm error.\n"
   ]
  },
  {
   "cell_type": "code",
   "execution_count": 16,
   "id": "41da67ac",
   "metadata": {},
   "outputs": [
    {
     "name": "stderr",
     "output_type": "stream",
     "text": [
      "/opt/anaconda3/lib/python3.9/site-packages/scipy/sparse/linalg/dsolve/linsolve.py:144: SparseEfficiencyWarning: spsolve requires A be CSC or CSR matrix format\n",
      "  warn('spsolve requires A be CSC or CSR matrix format',\n"
     ]
    },
    {
     "data": {
      "text/plain": [
       "0.00020082180969560604"
      ]
     },
     "execution_count": 16,
     "metadata": {},
     "output_type": "execute_result"
    }
   ],
   "source": [
    "\n",
    "def poisson_1d_dirichlet(n):\n",
    "    '''\n",
    "    n: number of interior points\n",
    "    Grid: x_i = i*h, i=0..n+1, h=1/(n+1)\n",
    "    Returns: (x, u, u_true, err_inf)\n",
    "    '''\n",
    "    h = 1.0/(n+1)\n",
    "    x = np.linspace(0.0, 1.0, n+2)\n",
    "    u_true = np.sin(np.pi*x)\n",
    "    f = (np.pi**2) * np.sin(np.pi*x)\n",
    "\n",
    "    # assemble A on interior (n x n)\n",
    "    main = 2.0*np.ones(n)\n",
    "    off  = -1.0*np.ones(n-1)\n",
    "    A = diags([off, main, off], offsets=[-1,0,1], shape=(n,n)) / (h**2)\n",
    "\n",
    "    # interior RHS\n",
    "    b = f[1:-1].copy()\n",
    "\n",
    "    # Solve\n",
    "    u_interior = spsolve(A, b)\n",
    "\n",
    "    # Insert boundaries (Dirichlet zero)\n",
    "    u = np.zeros_like(x)\n",
    "    u[1:-1] = u_interior\n",
    "\n",
    "    # Error\n",
    "    err_inf = np.linalg.norm(u - u_true, ord=np.inf)\n",
    "    return x, u, u_true, err_inf\n",
    "\n",
    "# Smoke test\n",
    "x, u, u_true, err = poisson_1d_dirichlet(63)\n",
    "float(err)\n"
   ]
  },
  {
   "cell_type": "markdown",
   "id": "d649b928",
   "metadata": {},
   "source": [
    "\n",
    "### 3.1 Convergence test (expected ~second-order)\n",
    "Run the following cell. You should see roughly a 4x reduction in error when doubling n+1 (halving h).\n"
   ]
  },
  {
   "cell_type": "code",
   "execution_count": 17,
   "id": "fab48251",
   "metadata": {},
   "outputs": [
    {
     "name": "stdout",
     "output_type": "stream",
     "text": [
      "n=  31  max|error|=8.036e-04\n",
      "n=  63  max|error|=2.008e-04\n",
      "n= 127  max|error|=5.020e-05\n",
      "n= 255  max|error|=1.255e-05\n",
      "Error ratios (should be ~4): [4.001446260183585, 4.000361468367309, 4.0000903515629]\n"
     ]
    }
   ],
   "source": [
    "\n",
    "errs = []\n",
    "sizes = [31, 63, 127, 255]\n",
    "for n in sizes:\n",
    "    _, _, _, e = poisson_1d_dirichlet(n)\n",
    "    errs.append(float(e))\n",
    "    print(f\"n={n:4d}  max|error|={e:.3e}\")\n",
    "\n",
    "ratios = [errs[i]/errs[i+1] for i in range(len(errs)-1)]\n",
    "print(\"Error ratios (should be ~4):\", ratios)\n"
   ]
  },
  {
   "cell_type": "markdown",
   "id": "bd9aa42a",
   "metadata": {},
   "source": [
    "\n",
    "## 4) One-sided stencils and ghost points (boundary handling)\n",
    "Suppose a Neumann BC at x=0: u'(0)=0. One approach is to create a ghost point u_{-1} and impose a one-sided derivative:\n",
    "    u'(0) ~= (1/h) * sum_j c_j * u(x + s_j * h) = 0.\n",
    "Exercise: Use fd_weights([0,1,2], d=1) (second-order one-sided) to express u_{-1} in terms of u_0, u_1, u_2 (or directly eliminate the ghost by a relation among boundary-adjacent unknowns). Write the relation you would plug into your linear system.\n"
   ]
  },
  {
   "cell_type": "code",
   "execution_count": 18,
   "id": "580365f3",
   "metadata": {},
   "outputs": [
    {
     "name": "stdout",
     "output_type": "stream",
     "text": [
      "Matrix([[-3/2], [2], [-1/2]])\n"
     ]
    },
    {
     "data": {
      "text/latex": [
       "$\\displaystyle \\left[\\begin{matrix}- \\frac{3}{2}\\\\2\\\\- \\frac{1}{2}\\end{matrix}\\right]$"
      ],
      "text/plain": [
       "Matrix([\n",
       "[-3/2],\n",
       "[   2],\n",
       "[-1/2]])"
      ]
     },
     "execution_count": 18,
     "metadata": {},
     "output_type": "execute_result"
    }
   ],
   "source": [
    "\n",
    "# Workpad: derive one-sided coefficients and form a relation for u'(0)=0\n",
    "w_neu = fd_weights([0,1,2], d=1)\n",
    "w_neu\n"
   ]
  },
  {
   "cell_type": "markdown",
   "id": "1d91e39e",
   "metadata": {},
   "source": [
    "\n",
    "## 5) (Optional) Von Neumann stability for the heat equation\n",
    "Consider u_t = alpha * u_xx with explicit Euler in time and the 3-point stencil in space.\n",
    "Show symbolically that a sufficient stability condition is dt <= h**2/(2*alpha).\n",
    "Hint: The amplification factor is G(theta) = 1 - 4*mu*sin(theta/2)**2 where mu = alpha*dt/h**2.\n"
   ]
  },
  {
   "cell_type": "code",
   "execution_count": 19,
   "id": "a566c58c",
   "metadata": {},
   "outputs": [
    {
     "data": {
      "text/plain": [
       "(1 - 4*mu, Abs(4*mu - 1))"
      ]
     },
     "execution_count": 19,
     "metadata": {},
     "output_type": "execute_result"
    }
   ],
   "source": [
    "\n",
    "theta, mu = sp.symbols('theta mu', real=True)\n",
    "G = 1 - 4*mu*sp.sin(theta/2)**2\n",
    "# Max of sin^2 is 1 -> stability requires |G| <= 1 for all theta.\n",
    "# Show the most restrictive condition is 0 <= mu <= 1/2.\n",
    "G_min = sp.simplify(G.subs({sp.sin(theta/2)**2: 1}))  # worst case -> 1 - 4*mu\n",
    "sp.simplify(G_min), sp.simplify(sp.Abs(G_min))\n"
   ]
  },
  {
   "cell_type": "markdown",
   "id": "0ad33fcc",
   "metadata": {},
   "source": [
    "\n",
    "## 6) (Optional) 2D Poisson via Kronecker products\n",
    "Use kron with 1D second-derivative matrices to assemble the 2D Laplacian on an interior N x N grid. Solve -Delta u = f with a manufactured solution, e.g. u(x,y) = sin(pi x) sin(pi y).\n"
   ]
  },
  {
   "cell_type": "code",
   "execution_count": 20,
   "id": "1f9d9c00",
   "metadata": {},
   "outputs": [
    {
     "data": {
      "text/plain": [
       "0.024844963743991765"
      ]
     },
     "execution_count": 20,
     "metadata": {},
     "output_type": "execute_result"
    }
   ],
   "source": [
    "\n",
    "def lap1d_matrix(n, h):\n",
    "    main = 2.0*np.ones(n)\n",
    "    off  = -1.0*np.ones(n-1)\n",
    "    return diags([off, main, off], [-1,0,1], shape=(n,n)) / (h**2)\n",
    "\n",
    "def poisson_2d_dirichlet(N):\n",
    "    '''\n",
    "    2D Poisson with zero Dirichlet BCs on [0,1]^2.\n",
    "    '''\n",
    "    h = 1.0/(N+1)\n",
    "    x = np.linspace(0,1,N+2)\n",
    "    y = np.linspace(0,1,N+2)\n",
    "    X, Y = np.meshgrid(x, y, indexing='ij')\n",
    "    u_true = np.sin(np.pi*X) * np.sin(np.pi*Y)\n",
    "    f = 2*(np.pi**2) * u_true\n",
    "\n",
    "    # Interior\n",
    "    F = f[1:-1, 1:-1].reshape(-1)\n",
    "\n",
    "    L1 = lap1d_matrix(N, h)\n",
    "    I  = eye(N, format='csr')\n",
    "    A = kron(I, L1) + kron(L1, I)\n",
    "\n",
    "    U = spsolve(A, F)\n",
    "    u = np.zeros_like(u_true)\n",
    "    u[1:-1, 1:-1] = U.reshape(N, N)\n",
    "\n",
    "    err_inf = np.linalg.norm(u - u_true, ord=np.inf)\n",
    "    return (x, y), u, u_true, err_inf\n",
    "\n",
    "# Quick smoke test (small N)\n",
    "_, _, _, err2d = poisson_2d_dirichlet(20)\n",
    "float(err2d)\n"
   ]
  },
  {
   "cell_type": "markdown",
   "id": "54cbc72c",
   "metadata": {},
   "source": [
    "\n",
    "## Wrap-up and next steps\n",
    "- Try larger stencils (e.g., 7-point) and confirm higher orders.\n",
    "- Build boundary stencils for Robin BCs with `fd_weights`.\n",
    "- Explore performance: vectorize loops and use sparse formats efficiently.\n",
    "- Extend the 2D solver to nonzero Dirichlet or mixed BCs.\n",
    "\n",
    "Happy experimenting!\n"
   ]
  },
  {
   "cell_type": "markdown",
   "id": "ec64e98b",
   "metadata": {},
   "source": [
    "\n",
    "## 1.6 More SymPy skills: simplify, collect, apart/together\n",
    "Practice algebraic manipulation utilities.\n"
   ]
  },
  {
   "cell_type": "code",
   "execution_count": 21,
   "id": "5aadd6e6",
   "metadata": {},
   "outputs": [
    {
     "data": {
      "text/plain": [
       "(x + 2,\n",
       " x**2 + 2*x + 1,\n",
       " 1 - 1/(2*(x + 1)) + 3/(2*(x - 1)),\n",
       " (x + (x - 1)*(x + 1) + 2)/((x - 1)*(x + 1)))"
      ]
     },
     "execution_count": 21,
     "metadata": {},
     "output_type": "execute_result"
    }
   ],
   "source": [
    "\n",
    "# Simplify, collect, apart/together\n",
    "x, y = sp.symbols('x y')\n",
    "expr = (x**2 - 1)/(x - 1) + (x/(x+1) + 1/(x+1))\n",
    "s1 = sp.simplify(expr)\n",
    "c1 = sp.collect(x**2 + 2*x + 1, x)\n",
    "rat = (x**2 + x + 1)/(x**2 - 1)\n",
    "ap = sp.apart(rat, x)      # partial fractions\n",
    "tg = sp.together(ap)       # recombine\n",
    "s1, c1, ap, tg\n"
   ]
  },
  {
   "cell_type": "markdown",
   "id": "c2a62a04",
   "metadata": {},
   "source": [
    "\n",
    "## 1.7 Solving equations and linear systems symbolically\n"
   ]
  },
  {
   "cell_type": "code",
   "execution_count": 22,
   "id": "697ed713",
   "metadata": {},
   "outputs": [
    {
     "data": {
      "text/plain": [
       "([pi/6, 5*pi/6],\n",
       " Matrix([\n",
       " [ 3/5],\n",
       " [-1/5]]))"
      ]
     },
     "execution_count": 22,
     "metadata": {},
     "output_type": "execute_result"
    }
   ],
   "source": [
    "\n",
    "# Solve a nonlinear equation and a small linear system\n",
    "x, y = sp.symbols('x y')\n",
    "sol_scalar = sp.solve(sp.Eq(sp.sin(x), sp.Rational(1,2)), x)  # general solutions\n",
    "A = sp.Matrix([[2, 1], [1, 3]])\n",
    "b = sp.Matrix([1, 0])\n",
    "sol_lin = A.LUsolve(b)  # exact rationals\n",
    "sol_scalar[:4], sol_lin\n"
   ]
  },
  {
   "cell_type": "markdown",
   "id": "fc141fd0",
   "metadata": {},
   "source": [
    "\n",
    "## 1.8 Piecewise and lambdify\n"
   ]
  },
  {
   "cell_type": "code",
   "execution_count": 23,
   "id": "6ae0e2b3",
   "metadata": {},
   "outputs": [
    {
     "data": {
      "text/plain": [
       "[(-2.0, 4.0),\n",
       " (-1.5, 2.25),\n",
       " (-1.0, 1.0),\n",
       " (-0.5, 0.25),\n",
       " (0.0, 0.0),\n",
       " (0.5, 0.5),\n",
       " (1.0, 1.0),\n",
       " (1.5, 1.5),\n",
       " (2.0, 2.0)]"
      ]
     },
     "execution_count": 23,
     "metadata": {},
     "output_type": "execute_result"
    }
   ],
   "source": [
    "\n",
    "t = sp.symbols('t', real=True)\n",
    "f = sp.Piecewise((t**2, t < 0), (t, True))\n",
    "f_num = sp.lambdify(t, f, \"numpy\")\n",
    "import numpy as np\n",
    "ts = np.linspace(-2, 2, 9)\n",
    "vals = f_num(ts)\n",
    "list(zip(ts.tolist(), vals.tolist()))\n"
   ]
  },
  {
   "cell_type": "markdown",
   "id": "8184939d",
   "metadata": {},
   "source": [
    "\n",
    "## 2.4 Automatic order test on polynomials\n",
    "A stencil that is exact on polynomials up to degree m-1 (except at k=d) should differentiate polynomials exactly up to that degree.\n"
   ]
  },
  {
   "cell_type": "code",
   "execution_count": 24,
   "id": "ff6556db",
   "metadata": {},
   "outputs": [
    {
     "name": "stdout",
     "output_type": "stream",
     "text": [
      "Matrix([[1/12], [-2/3], [0], [2/3], [-1/12]])\n"
     ]
    },
    {
     "data": {
      "text/latex": [
       "$\\displaystyle 0$"
      ],
      "text/plain": [
       "0"
      ]
     },
     "execution_count": 24,
     "metadata": {},
     "output_type": "execute_result"
    }
   ],
   "source": [
    "\n",
    "def test_stencil_exactness(offsets, d, maxdeg=None):\n",
    "    '''\n",
    "    Test that the FD approximation matches the exact derivative on polynomials\n",
    "    of degree up to maxdeg (default: len(offsets)-1).\n",
    "    '''\n",
    "    m = len(offsets)\n",
    "    if maxdeg is None:\n",
    "        maxdeg = m-1\n",
    "    c = fd_weights(offsets, d)\n",
    "    s = [sp.nsimplify(si) for si in offsets]\n",
    "    x, h = sp.symbols('x h')\n",
    "    # Build generic polynomial p(x) = sum_{k=0..maxdeg} a_k x**k\n",
    "    a = sp.symbols('a0:'+str(maxdeg+1))\n",
    "    p = sum(a[k]*x**k for k in range(maxdeg+1))\n",
    "    # FD approximation at x using samples at x + s_j*h\n",
    "    fd = sum(c[j]*p.subs(x, x + s[j]*h) for j in range(m)) / (h**d)\n",
    "    exact = sp.diff(p, x, d)\n",
    "    # Compare series in h about 0 and drop O terms\n",
    "    diff_series = sp.series(sp.simplify(fd - exact), h, 0, m).removeO()\n",
    "    return sp.simplify(diff_series)\n",
    "\n",
    "# Example: should be identically 0\n",
    "res = test_stencil_exactness([-2,-1,0,1,2], d=1)\n",
    "res\n"
   ]
  },
  {
   "cell_type": "markdown",
   "id": "6804cc36",
   "metadata": {},
   "source": [
    "\n",
    "## 3.2 Plot the numerical solution and pointwise error\n"
   ]
  },
  {
   "cell_type": "code",
   "execution_count": 25,
   "id": "62b7e94b",
   "metadata": {},
   "outputs": [
    {
     "name": "stderr",
     "output_type": "stream",
     "text": [
      "/opt/anaconda3/lib/python3.9/site-packages/scipy/sparse/linalg/dsolve/linsolve.py:144: SparseEfficiencyWarning: spsolve requires A be CSC or CSR matrix format\n",
      "  warn('spsolve requires A be CSC or CSR matrix format',\n"
     ]
    },
    {
     "data": {
      "text/plain": [
       "Text(0, 0.5, 'u(x)')"
      ]
     },
     "execution_count": 25,
     "metadata": {},
     "output_type": "execute_result"
    },
    {
     "data": {
      "image/png": "[encoded data removed]",
      "text/plain": [
       "<Figure size 432x288 with 1 Axes>"
      ]
     },
     "metadata": {
      "needs_background": "light"
     },
     "output_type": "display_data"
    }
   ],
   "source": [
    "\n",
    "import matplotlib.pyplot as plt\n",
    "\n",
    "x, u, u_true, err = poisson_1d_dirichlet(127)\n",
    "plt.figure()\n",
    "plt.plot(x, u_true, label=\"true\")\n",
    "plt.plot(x, u, label=\"numeric\")\n",
    "plt.legend()\n",
    "plt.title(\"1D Poisson: solution\")\n",
    "plt.xlabel(\"x\"); plt.ylabel(\"u(x)\")\n"
   ]
  },
  {
   "cell_type": "code",
   "execution_count": 26,
   "id": "1dc65f81",
   "metadata": {},
   "outputs": [
    {
     "data": {
      "text/plain": [
       "Text(0, 0.5, 'error')"
      ]
     },
     "execution_count": 26,
     "metadata": {},
     "output_type": "execute_result"
    },
    {
     "data": {
      "image/png": "[encoded data removed]",
      "text/plain": [
       "<Figure size 432x288 with 1 Axes>"
      ]
     },
     "metadata": {
      "needs_background": "light"
     },
     "output_type": "display_data"
    }
   ],
   "source": [
    "\n",
    "# Error plot\n",
    "plt.figure()\n",
    "plt.plot(x, np.abs(u - u_true))\n",
    "plt.title(\"Pointwise error |u - u_true|\")\n",
    "plt.xlabel(\"x\"); plt.ylabel(\"error\")\n"
   ]
  },
  {
   "cell_type": "markdown",
   "id": "497353bc",
   "metadata": {},
   "source": [
    "\n",
    "## 3.3 Observed order of accuracy\n"
   ]
  },
  {
   "cell_type": "code",
   "execution_count": 27,
   "id": "fafd57c4",
   "metadata": {},
   "outputs": [
    {
     "name": "stdout",
     "output_type": "stream",
     "text": [
      "n=  31  max|error|=8.036e-04\n",
      "n=  63  max|error|=2.008e-04\n",
      "n= 127  max|error|=5.020e-05\n",
      "n= 255  max|error|=1.255e-05\n",
      "Observed orders: [-2.0005215338201543, -2.0001303662649175, -2.0000325870698976]\n"
     ]
    },
    {
     "name": "stderr",
     "output_type": "stream",
     "text": [
      "/opt/anaconda3/lib/python3.9/site-packages/scipy/sparse/linalg/dsolve/linsolve.py:144: SparseEfficiencyWarning: spsolve requires A be CSC or CSR matrix format\n",
      "  warn('spsolve requires A be CSC or CSR matrix format',\n"
     ]
    }
   ],
   "source": [
    "\n",
    "def observed_orders(ns):\n",
    "    errs = []\n",
    "    for n in ns:\n",
    "        _, _, _, e = poisson_1d_dirichlet(n)\n",
    "        errs.append(float(e))\n",
    "    orders = [np.log(errs[i]/errs[i+1])/np.log((n+1)/(ns[i+1]+1)) for i, n in enumerate(ns[:-1])]\n",
    "    return errs, orders\n",
    "\n",
    "ns = [31, 63, 127, 255]\n",
    "errs, orders = observed_orders(ns)\n",
    "for n, e in zip(ns, errs):\n",
    "    print(f\"n={n:4d}  max|error|={e:.3e}\")\n",
    "print(\"Observed orders:\", orders)\n"
   ]
  },
  {
   "cell_type": "markdown",
   "id": "226c57d1",
   "metadata": {},
   "source": [
    "\n",
    "## 5.1 Explicit heat equation solver\n",
    "We solve u_t = alpha * u_xx on [0,1] with u=0 at boundaries and initial condition u(x,0)=sin(pi x).\n"
   ]
  },
  {
   "cell_type": "code",
   "execution_count": 28,
   "id": "f0426ee1",
   "metadata": {},
   "outputs": [
    {
     "name": "stdout",
     "output_type": "stream",
     "text": [
      "dt=1.000e-05, steps=10000, r=0.400, max|error|=1.059e-05\n"
     ]
    }
   ],
   "source": [
    "\n",
    "def heat_explicit(alpha=1.0, n=99, tfinal=0.1, cfl=0.4):\n",
    "    h = 1.0/(n+1)\n",
    "    x = np.linspace(0,1,n+2)\n",
    "    u = np.sin(np.pi*x)        # initial condition\n",
    "    dt = cfl * h*h/alpha       # cfl <= 0.5 for stability\n",
    "    msteps = int(np.ceil(tfinal/dt))\n",
    "    dt = tfinal/msteps         # adjust to hit tfinal exactly\n",
    "    r = alpha*dt/(h*h)\n",
    "    for _ in range(msteps):\n",
    "        un = u.copy()\n",
    "        u[1:-1] = un[1:-1] + r*(un[0:-2] - 2*un[1:-1] + un[2:])\n",
    "        u[0] = 0.0; u[-1] = 0.0\n",
    "    u_true = np.exp(-np.pi**2*alpha*tfinal) * np.sin(np.pi*x)\n",
    "    err_inf = np.linalg.norm(u - u_true, ord=np.inf)\n",
    "    return x, u, u_true, err_inf, dt, msteps, r\n",
    "\n",
    "# Stable run (cfl=0.4)\n",
    "x, u, u_true, err_inf, dt, msteps, r = heat_explicit(alpha=1.0, n=199, tfinal=0.1, cfl=0.4)\n",
    "print(f\"dt={dt:.3e}, steps={msteps}, r={r:.3f}, max|error|={err_inf:.3e}\")\n"
   ]
  },
  {
   "cell_type": "code",
   "execution_count": 29,
   "id": "668fd50e",
   "metadata": {},
   "outputs": [
    {
     "data": {
      "text/plain": [
       "Text(0, 0.5, 'u(x, t)')"
      ]
     },
     "execution_count": 29,
     "metadata": {},
     "output_type": "execute_result"
    },
    {
     "data": {
      "image/png": "[encoded data removed]",
      "text/plain": [
       "<Figure size 432x288 with 1 Axes>"
      ]
     },
     "metadata": {
      "needs_background": "light"
     },
     "output_type": "display_data"
    }
   ],
   "source": [
    "\n",
    "# Plot stable run\n",
    "plt.figure()\n",
    "plt.plot(x, u_true, label=\"true\")\n",
    "plt.plot(x, u, label=\"explicit Euler\")\n",
    "plt.legend()\n",
    "plt.title(\"Heat equation: stable explicit run\")\n",
    "plt.xlabel(\"x\"); plt.ylabel(\"u(x, t)\")\n"
   ]
  },
  {
   "cell_type": "markdown",
   "id": "91032fc4",
   "metadata": {},
   "source": [
    "\n",
    "### 5.2 An unstable step (for demonstration)\n",
    "If cfl > 0.5, explicit Euler becomes unstable for this scheme.\n"
   ]
  },
  {
   "cell_type": "code",
   "execution_count": 30,
   "id": "76879817",
   "metadata": {},
   "outputs": [
    {
     "name": "stdout",
     "output_type": "stream",
     "text": [
      "(unstable) dt=1.750e-05, steps=5715, r=0.700, max|error|=nan\n"
     ]
    },
    {
     "name": "stderr",
     "output_type": "stream",
     "text": [
      "/var/folders/r3/b5v1s0gd7kq5f6lbp7zb_4rr0000gn/T/ipykernel_89062/1784012125.py:11: RuntimeWarning: overflow encountered in add\n",
      "  u[1:-1] = un[1:-1] + r*(un[0:-2] - 2*un[1:-1] + un[2:])\n",
      "/var/folders/r3/b5v1s0gd7kq5f6lbp7zb_4rr0000gn/T/ipykernel_89062/1784012125.py:11: RuntimeWarning: overflow encountered in subtract\n",
      "  u[1:-1] = un[1:-1] + r*(un[0:-2] - 2*un[1:-1] + un[2:])\n",
      "/var/folders/r3/b5v1s0gd7kq5f6lbp7zb_4rr0000gn/T/ipykernel_89062/1784012125.py:11: RuntimeWarning: invalid value encountered in add\n",
      "  u[1:-1] = un[1:-1] + r*(un[0:-2] - 2*un[1:-1] + un[2:])\n",
      "/var/folders/r3/b5v1s0gd7kq5f6lbp7zb_4rr0000gn/T/ipykernel_89062/1784012125.py:11: RuntimeWarning: invalid value encountered in subtract\n",
      "  u[1:-1] = un[1:-1] + r*(un[0:-2] - 2*un[1:-1] + un[2:])\n"
     ]
    },
    {
     "data": {
      "text/plain": [
       "Text(0, 0.5, 'u(x, t)')"
      ]
     },
     "execution_count": 30,
     "metadata": {},
     "output_type": "execute_result"
    },
    {
     "data": {
      "image/png": "[encoded data removed]",
      "text/plain": [
       "<Figure size 432x288 with 1 Axes>"
      ]
     },
     "metadata": {
      "needs_background": "light"
     },
     "output_type": "display_data"
    }
   ],
   "source": [
    "\n",
    "# Unstable run (expect oscillations/blow-up as tfinal grows)\n",
    "x2, u2, u2_true, err2, dt2, m2, r2 = heat_explicit(alpha=1.0, n=199, tfinal=0.1, cfl=0.7)\n",
    "print(f\"(unstable) dt={dt2:.3e}, steps={m2}, r={r2:.3f}, max|error|={err2:.3e}\")\n",
    "plt.figure()\n",
    "plt.plot(x2, u2_true, label=\"true\")\n",
    "plt.plot(x2, u2, label=\"explicit Euler (unstable cfl)\")\n",
    "plt.legend()\n",
    "plt.title(\"Heat equation: explicit run with cfl > 0.5\")\n",
    "plt.xlabel(\"x\"); plt.ylabel(\"u(x, t)\")\n"
   ]
  },
  {
   "cell_type": "markdown",
   "id": "0e84ab54",
   "metadata": {},
   "source": [
    "\n",
    "## 6.1 SymPy code generation (C-style)\n",
    "You can emit C-like code for stencil weights or expressions for embedding in other languages.\n"
   ]
  },
  {
   "cell_type": "code",
   "execution_count": 31,
   "id": "5f30b2de",
   "metadata": {},
   "outputs": [
    {
     "name": "stdout",
     "output_type": "stream",
     "text": [
      "Matrix([[1/12], [-2/3], [0], [2/3], [-1/12]])\n"
     ]
    },
    {
     "name": "stderr",
     "output_type": "stream",
     "text": [
      "/var/folders/r3/b5v1s0gd7kq5f6lbp7zb_4rr0000gn/T/ipykernel_89062/1085982615.py:1: SymPyDeprecationWarning: \n",
      "\n",
      "The sympy.printing.ccode submodule is deprecated. It has been renamed to\n",
      "sympy.printing.c.\n",
      "\n",
      "See https://docs.sympy.org/latest/explanation/active-deprecations.html#deprecated-printing-code-submodules\n",
      "for details.\n",
      "\n",
      "This has been deprecated since SymPy version 1.7. It\n",
      "will be removed in a future version of SymPy.\n",
      "\n",
      "  from sympy.printing.ccode import ccode\n"
     ]
    },
    {
     "data": {
      "text/plain": [
       "['1.0/12.0', '-2.0/3.0', '0', '2.0/3.0', '-1.0/12.0']"
      ]
     },
     "execution_count": 31,
     "metadata": {},
     "output_type": "execute_result"
    }
   ],
   "source": [
    "\n",
    "from sympy.printing.ccode import ccode\n",
    "coeffs = fd_weights([-2,-1,0,1,2], d=1)\n",
    "c_snippets = [ccode(sp.nsimplify(ci)) for ci in list(coeffs)]\n",
    "c_snippets\n"
   ]
  },
  {
   "cell_type": "markdown",
   "id": "f8cf8190",
   "metadata": {},
   "source": [
    "*Extended on 2025-08-22 15:54:52*"
   ]
  }
 ],
 "metadata": {
  "kernelspec": {
   "display_name": "Python 3 (ipykernel)",
   "language": "python",
   "name": "python3"
  },
  "language_info": {
   "codemirror_mode": {
    "name": "ipython",
    "version": 3
   },
   "file_extension": ".py",
   "mimetype": "text/x-python",
   "name": "python",
   "nbconvert_exporter": "python",
   "pygments_lexer": "ipython3",
   "version": "3.9.12"
  }
 },
 "nbformat": 4,
 "nbformat_minor": 5
}
