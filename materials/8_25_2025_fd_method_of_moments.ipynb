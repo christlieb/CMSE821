{
 "cells": [
  {
   "cell_type": "markdown",
   "id": "bd16807c",
   "metadata": {},
   "source": [
    "\n",
    "# Finite Differences via the Method of Moments\n",
    "*A practical, code-backed explanation*  \n",
    "Created: 2025-08-22\n"
   ]
  },
  {
   "cell_type": "markdown",
   "id": "4e7a8b1d",
   "metadata": {},
   "source": [
    "\n",
    "## Overview\n",
    "We want coefficients $c_j$ such that a linear combination of nearby function samples\n",
    "approximates a derivative of order $d$ at a point $x$:\n",
    "$$\n",
    "  f^{(d)}(x) \\approx \\frac{1}{h^d} \\sum_{j=1}^m c_j\\, f(x + s_j h),\n",
    "$$\n",
    "where $h$ is the grid spacing and $s_j$ are offsets in units of $h$ (e.g., $-2,-1,0,1,2$).\n",
    "\n",
    "**Method of moments idea:** expand each sample in a Taylor series around $x$, then choose $c_j$\n",
    "so that the first $m$ Taylor moments match the target derivative. That forces lower-order terms\n",
    "to cancel and determines the **accuracy order** automatically.\n"
   ]
  },
  {
   "cell_type": "markdown",
   "id": "4f873d96",
   "metadata": {},
   "source": [
    "\n",
    "## Taylor expansion and moment conditions\n",
    "Taylor expand a sample:\n",
    "$$\n",
    "f(x+s_j h) = \\sum_{k=0}^{\\infty} \\frac{f^{(k)}(x)}{k!} (s_j h)^k.\n",
    "$$\n",
    "Insert into the FD ansatz and collect by $f^{(k)}(x)$. To make the formula exact up to degree $m-1$:\n",
    "$$\n",
    "\\sum_{j=1}^m c_j s_j^k =\n",
    "\\begin{cases}\n",
    "0 & k=0,1,\\dots,m-1,\\; k\\ne d,\\\\\n",
    "d! & k=d.\n",
    "\\end{cases}\n",
    "$$\n",
    "These sums are the **moments**. Solving this $m\\times m$ system yields the stencil $c_j$.\n",
    "The first higher moment that does **not** vanish occurs at some $k^*\\ge m$. Then the leading error is\n",
    "$$\n",
    "\\text{TE} \\sim \\frac{\\sum_j c_j s_j^{k^*}}{k^*!} \\, h^{\\,k^*-d} \\, f^{(k^*)}(x).\n",
    "$$\n",
    "The **accuracy order** is $p = k^* - d$.\n"
   ]
  },
  {
   "cell_type": "markdown",
   "id": "ea357a1b",
   "metadata": {},
   "source": [
    "\n",
    "## Setup\n",
    "Run this once per kernel.\n"
   ]
  },
  {
   "cell_type": "code",
   "execution_count": 1,
   "id": "a7007611",
   "metadata": {},
   "outputs": [
    {
     "data": {
      "text/plain": [
       "'1.10.1'"
      ]
     },
     "execution_count": 1,
     "metadata": {},
     "output_type": "execute_result"
    }
   ],
   "source": [
    "\n",
    "import sympy as sp\n",
    "import numpy as np\n",
    "sp.__version__\n"
   ]
  },
  {
   "cell_type": "markdown",
   "id": "d1bc1999",
   "metadata": {},
   "source": [
    "\n",
    "## Helper functions (symbolic)\n",
    "- `fd_weights(offsets, d)`: solve the moment system for coefficients.\n",
    "- `leading_error_constant(offsets, d)`: compute accuracy order `p` and leading TE constant `C_p`.\n"
   ]
  },
  {
   "cell_type": "code",
   "execution_count": 2,
   "id": "02b80136",
   "metadata": {},
   "outputs": [],
   "source": [
    "\n",
    "def fd_weights(offsets, d):\n",
    "    '''\n",
    "    offsets: list of offsets s_j (can be non-integers), measured in steps of h\n",
    "    d: derivative order (0,1,2,...)\n",
    "    returns: sympy Matrix of coefficients c_j\n",
    "    '''\n",
    "    s = [sp.nsimplify(si) for si in offsets]\n",
    "    m = len(s)\n",
    "    A = sp.Matrix([[s[j]**k for j in range(m)] for k in range(m)])\n",
    "    b = sp.Matrix([0]*m); b[d] = sp.factorial(d)\n",
    "    c = A.LUsolve(b)\n",
    "    return sp.simplify(c)\n",
    "\n",
    "def leading_error_constant(offsets, d):\n",
    "    '''\n",
    "    Returns (p, C_p) where TE ~ C_p * h**p * f^(d+p)(x).\n",
    "    '''\n",
    "    s = [sp.nsimplify(si) for si in offsets]\n",
    "    c = fd_weights(s, d)\n",
    "    m = len(s)\n",
    "    k = m\n",
    "    while True:\n",
    "        mom = sp.simplify(sum(c[j]*s[j]**k for j in range(m)))\n",
    "        if mom != 0:\n",
    "            p = k - d\n",
    "            Cp = sp.simplify(mom/sp.factorial(k))\n",
    "            return int(p), Cp\n",
    "        k += 1\n"
   ]
  },
  {
   "cell_type": "markdown",
   "id": "8c83a4fa",
   "metadata": {},
   "source": [
    "\n",
    "## Example 1 — 3-point second derivative (classic)\n",
    "Offsets: $s = [-1, 0, 1]$, target $d=2$.\n",
    "Expected stencil: $[1, -2, 1]$ with second-order accuracy and TE constant $1/12$.\n"
   ]
  },
  {
   "cell_type": "code",
   "execution_count": 3,
   "id": "8e4433a9",
   "metadata": {},
   "outputs": [
    {
     "name": "stdout",
     "output_type": "stream",
     "text": [
      "weights: [1, -2, 1]\n",
      "order p: 2   TE constant C_p: 1/12\n"
     ]
    }
   ],
   "source": [
    "\n",
    "c = fd_weights([-1,0,1], d=2)\n",
    "p, C = leading_error_constant([-1,0,1], d=2)\n",
    "print(\"weights:\", list(c))\n",
    "print(\"order p:\", p, \"  TE constant C_p:\", C)\n",
    "assert list(c) == [1, -2, 1]\n",
    "assert p == 2 and sp.simplify(C - sp.Rational(1,12)) == 0\n"
   ]
  },
  {
   "cell_type": "markdown",
   "id": "5384a655",
   "metadata": {},
   "source": [
    "\n",
    "## Example 2 — 5-point, 4th-order first derivative\n",
    "Offsets: $s = [-2,-1,0,1,2]$, target $d=1$.  \n",
    "Stencil should be\n",
    "$$\n",
    "\\frac{1}{12h}\\big[f(x-2h) - 8 f(x-h) + 8 f(x+h) - f(x+2h)\\big],\n",
    "$$\n",
    "i.e. coefficients $[1/12, -2/3, 0, 2/3, -1/12]$, order 4, leading constant $-1/30$.\n"
   ]
  },
  {
   "cell_type": "code",
   "execution_count": 4,
   "id": "be5b8908",
   "metadata": {},
   "outputs": [
    {
     "name": "stdout",
     "output_type": "stream",
     "text": [
      "weights: [1/12, -2/3, 0, 2/3, -1/12]\n",
      "order p: 4   TE constant C_p: -1/30\n"
     ]
    }
   ],
   "source": [
    "\n",
    "c = fd_weights([-2,-1,0,1,2], d=1)\n",
    "p, C = leading_error_constant([-2,-1,0,1,2], d=1)\n",
    "print(\"weights:\", list(c))\n",
    "print(\"order p:\", p, \"  TE constant C_p:\", C)\n",
    "assert list(c) == [sp.Rational(1,12), -sp.Rational(2,3), 0, sp.Rational(2,3), -sp.Rational(1,12)]\n",
    "assert p == 4 and sp.simplify(C + sp.Rational(1,30)) == 0\n"
   ]
  },
  {
   "cell_type": "markdown",
   "id": "11ff1ac4",
   "metadata": {},
   "source": [
    "\n",
    "## Nonuniform and one-sided examples\n",
    "The same system works if the offsets are one-sided or nonuniform.\n"
   ]
  },
  {
   "cell_type": "code",
   "execution_count": 5,
   "id": "5b84b7f9",
   "metadata": {},
   "outputs": [
    {
     "name": "stdout",
     "output_type": "stream",
     "text": [
      "one-sided d=1 weights: [-11/6, 3, -3/2, 1/3]\n",
      "order: 3   TE const: 1/4\n",
      "nonuniform d=1 weights: [-8/3, 3, -1/3]\n",
      "order: 2   TE const: -1/8\n"
     ]
    }
   ],
   "source": [
    "\n",
    "# One-sided first derivative at a boundary: offsets [0,1,2,3] (third-order accurate)\n",
    "c_os = fd_weights([0,1,2,3], d=1)\n",
    "p_os, C_os = leading_error_constant([0,1,2,3], d=1)\n",
    "print(\"one-sided d=1 weights:\", list(c_os))\n",
    "print(\"order:\", p_os, \"  TE const:\", C_os)\n",
    "\n",
    "# A simple nonuniform first-derivative stencil: offsets [0, 1/2, 3/2]\n",
    "c_nu = fd_weights([0, sp.Rational(1,2), sp.Rational(3,2)], d=1)\n",
    "p_nu, C_nu = leading_error_constant([0, sp.Rational(1,2), sp.Rational(3,2)], d=1)\n",
    "print(\"nonuniform d=1 weights:\", list(c_nu))\n",
    "print(\"order:\", p_nu, \"  TE const:\", C_nu)\n"
   ]
  },
  {
   "cell_type": "markdown",
   "id": "e9182bd8",
   "metadata": {},
   "source": [
    "\n",
    "## Automatic exactness test on polynomials\n",
    "A stencil that matches moments up to degree $m-1$ (aside from $k=d$) differentiates polynomials\n",
    "exactly up to that degree. The helper below checks this by comparing the FD approximation\n",
    "to the exact derivative on a **generic polynomial**.\n"
   ]
  },
  {
   "cell_type": "code",
   "execution_count": 6,
   "id": "7b76c2c4",
   "metadata": {},
   "outputs": [
    {
     "data": {
      "text/latex": [
       "$\\displaystyle 0$"
      ],
      "text/plain": [
       "0"
      ]
     },
     "execution_count": 6,
     "metadata": {},
     "output_type": "execute_result"
    }
   ],
   "source": [
    "\n",
    "def test_stencil_exactness(offsets, d, maxdeg=None):\n",
    "    '''\n",
    "    Returns a simplified series-in-h of the error for a generic polynomial;\n",
    "    identically 0 up to the enforced degree means the stencil is exact there.\n",
    "    '''\n",
    "    s = [sp.nsimplify(si) for si in offsets]\n",
    "    m = len(s)\n",
    "    if maxdeg is None:\n",
    "        maxdeg = m-1\n",
    "    x, h = sp.symbols('x h')\n",
    "    a = sp.symbols('a0:'+str(maxdeg+1))\n",
    "    p = sum(a[k]*x**k for k in range(maxdeg+1))\n",
    "    c = fd_weights(s, d)\n",
    "    fd = sum(c[j]*p.subs(x, x + s[j]*h) for j in range(m)) / (h**d)\n",
    "    exact = sp.diff(p, x, d)\n",
    "    diff_series = sp.series(sp.simplify(fd - exact), h, 0, m).removeO()\n",
    "    return sp.simplify(diff_series)\n",
    "\n",
    "# Should be identically 0 for the 5-point first-derivative stencil up to degree 4 (except k=1 behavior)\n",
    "test_stencil_exactness([-2,-1,0,1,2], d=1)\n"
   ]
  },
  {
   "cell_type": "markdown",
   "id": "1dee33f1",
   "metadata": {},
   "source": [
    "\n",
    "## Sanity check vs. a known function\n",
    "Take $f(x)=\\sin x$, so $f'(x)=\\cos x$. Compare the 5-point stencil to the truth at $x=1$.\n"
   ]
  },
  {
   "cell_type": "code",
   "execution_count": 7,
   "id": "e19bae5b",
   "metadata": {},
   "outputs": [
    {
     "name": "stdout",
     "output_type": "stream",
     "text": [
      "FD approx: 0.540302305868073\n",
      "true     : 0.5403023058681398\n",
      "abs error: 6.63913368725844e-14\n"
     ]
    }
   ],
   "source": [
    "\n",
    "import math\n",
    "x0 = 1.0\n",
    "h = 1e-3\n",
    "offs = [-2,-1,0,1,2]\n",
    "c = fd_weights(offs, d=1)\n",
    "approx = sum(c[j]*math.sin(x0 + offs[j]*h) for j in range(len(offs))) / h\n",
    "print(\"FD approx:\", approx)\n",
    "print(\"true     :\", math.cos(1.0))\n",
    "print(\"abs error:\", abs(approx - math.cos(1.0)))\n"
   ]
  },
  {
   "cell_type": "markdown",
   "id": "014e5a2f",
   "metadata": {},
   "source": [
    "\n",
    "## Cheat sheet (how to derive any stencil)\n",
    "1. Pick offsets `s = [s1, ..., sm]` and derivative order `d`.\n",
    "2. Build `A[k, j] = s_j**k` for `k=0..m-1` and `b = [0,...,0]` with `b[d] = d!`.\n",
    "3. Solve `A c = b` to get coefficients `c_j`.\n",
    "4. The accuracy order is `p = k* - d`, where `k*` is the first integer `>= m` with nonzero moment `sum(c_j * s_j**k*)`.\n",
    "   The leading truncation error is `TE ~ (sum c_j s_j**k*)/k!* h**p * f^(d+p)(x)`.\n"
   ]
  },
  {
   "cell_type": "markdown",
   "id": "c793f38b",
   "metadata": {},
   "source": [
    "\n",
    "## Exercises\n",
    "1. Derive a fourth-order second-derivative stencil using offsets `[-2,-1,0,1,2]`. Report its order and TE constant.  \n",
    "2. Build a one-sided second-derivative stencil at a boundary using offsets `[0,1,2,3]`. What order do you get?  \n",
    "3. Try a nonuniform first-derivative stencil with offsets `[0, 1/3, 1]`. Verify exactness on polynomials up to the expected degree.  \n",
    "4. Use your favorite smooth function and check the absolute error of your stencils for several `h` values; plot error vs `h` to estimate the observed order.\n"
   ]
  },
  {
   "cell_type": "markdown",
   "id": "d8faeea7",
   "metadata": {},
   "source": [
    "\n",
    "## Deeper intuition: moments, symmetry, and why cancellations happen\n",
    "- The coefficients `c_j` (scaled by `1/h^d`) act like a **discrete derivative of the delta**: testing on monomials `x^k` gives the moments `Σ c_j s_j^k`.\n",
    "- For **symmetric offsets** (e.g., `[-2,-1,0,1,2]`), odd powers of `s` are odd functions and even powers are even functions.  \n",
    "  - For a **first derivative** (odd operator), the solution `c` is **antisymmetric** and the central coefficient is zero.\n",
    "  - For a **second derivative** (even operator), the solution `c` is **symmetric**.\n",
    "- Because of symmetry, many moments **vanish automatically** (e.g., all odd moments for an even stencil), boosting the order without increasing unknowns.\n"
   ]
  },
  {
   "cell_type": "markdown",
   "id": "b01b7907",
   "metadata": {},
   "source": [
    "\n",
    "## Worked derivation (by hand, symbolically verified): 3-point second derivative\n",
    "We will build `A c = b` explicitly for offsets `s = [-1, 0, 1]` and `d = 2`.\n"
   ]
  },
  {
   "cell_type": "code",
   "execution_count": 8,
   "id": "c75e27db",
   "metadata": {},
   "outputs": [
    {
     "data": {
      "text/plain": [
       "(Matrix([\n",
       " [ 1, 1, 1],\n",
       " [-1, 0, 1],\n",
       " [ 1, 0, 1]]),\n",
       " Matrix([\n",
       " [0],\n",
       " [0],\n",
       " [2]]),\n",
       " Matrix([\n",
       " [ 1],\n",
       " [-2],\n",
       " [ 1]]))"
      ]
     },
     "execution_count": 8,
     "metadata": {},
     "output_type": "execute_result"
    }
   ],
   "source": [
    "\n",
    "import sympy as sp\n",
    "s = [-1, 0, 1]\n",
    "m, d = len(s), 2\n",
    "A = sp.Matrix([[sp.Integer(s[j])**k for j in range(m)] for k in range(m)])\n",
    "b = sp.Matrix([0]*m); b[d] = sp.factorial(d)\n",
    "c = A.LUsolve(b)\n",
    "A, b, sp.simplify(c)\n"
   ]
  },
  {
   "cell_type": "markdown",
   "id": "cf3af054",
   "metadata": {},
   "source": [
    "\n",
    "## Worked derivation: 5-point, fourth-order first derivative\n",
    "Offsets `s = [-2,-1,0,1,2]`, target `d=1`. We construct the moment system and verify the solution.\n"
   ]
  },
  {
   "cell_type": "code",
   "execution_count": 9,
   "id": "d60898a2",
   "metadata": {},
   "outputs": [
    {
     "data": {
      "text/plain": [
       "(Matrix([\n",
       " [ 1,  1, 1, 1,  1],\n",
       " [-2, -1, 0, 1,  2],\n",
       " [ 4,  1, 0, 1,  4],\n",
       " [-8, -1, 0, 1,  8],\n",
       " [16,  1, 0, 1, 16]]),\n",
       " Matrix([\n",
       " [0],\n",
       " [1],\n",
       " [0],\n",
       " [0],\n",
       " [0]]),\n",
       " [1/12, -2/3, 0, 2/3, -1/12])"
      ]
     },
     "execution_count": 9,
     "metadata": {},
     "output_type": "execute_result"
    }
   ],
   "source": [
    "\n",
    "s = [-2,-1,0,1,2]\n",
    "m, d = len(s), 1\n",
    "A = sp.Matrix([[sp.Integer(s[j])**k for j in range(m)] for k in range(m)])\n",
    "b = sp.Matrix([0]*m); b[d] = sp.factorial(d)\n",
    "c = sp.simplify(A.LUsolve(b))\n",
    "A, b, list(c)\n"
   ]
  },
  {
   "cell_type": "code",
   "execution_count": 10,
   "id": "c74d0fdb",
   "metadata": {},
   "outputs": [
    {
     "name": "stdout",
     "output_type": "stream",
     "text": [
      "symmetric? False\n",
      "antisymmetric? True\n"
     ]
    }
   ],
   "source": [
    "\n",
    "# Check symmetry/antisymmetry properties automatically\n",
    "def is_symmetric(vec):\n",
    "    return all(sp.simplify(vec[i] - vec[-1-i]) == 0 for i in range(len(vec)))\n",
    "def is_antisymmetric(vec):\n",
    "    return all(sp.simplify(vec[i] + vec[-1-i]) == 0 for i in range(len(vec)))\n",
    "\n",
    "print(\"symmetric?\", is_symmetric(list(c)))\n",
    "print(\"antisymmetric?\", is_antisymmetric(list(c)))\n"
   ]
  },
  {
   "cell_type": "markdown",
   "id": "15b8221a",
   "metadata": {},
   "source": [
    "\n",
    "## Symmetry rules (quick demo)\n",
    "For symmetric offsets and even `d`, the solution is symmetric; for odd `d`, it is antisymmetric.  \n",
    "This helps predict zero coefficients (e.g., the center coefficient for `d=1` is 0).\n"
   ]
  },
  {
   "cell_type": "code",
   "execution_count": 11,
   "id": "a6a69e88",
   "metadata": {},
   "outputs": [
    {
     "name": "stdout",
     "output_type": "stream",
     "text": [
      "d=1  weights: [1/12, -2/3, 0, 2/3, -1/12]   center = 0\n",
      "d=2  weights: [-1/12, 4/3, -5/2, 4/3, -1/12]   center = -5/2\n"
     ]
    }
   ],
   "source": [
    "\n",
    "def fd_weights(offsets, d):\n",
    "    s = [sp.nsimplify(si) for si in offsets]\n",
    "    m = len(s)\n",
    "    A = sp.Matrix([[s[j]**k for j in range(m)] for k in range(m)])\n",
    "    b = sp.Matrix([0]*m); b[d] = sp.factorial(d)\n",
    "    return sp.simplify(A.LUsolve(b))\n",
    "\n",
    "for d in [1,2]:\n",
    "    c = list(fd_weights([-2,-1,0,1,2], d=d))\n",
    "    print(f\"d={d}  weights:\", c, \"  center =\", c[len(c)//2])\n"
   ]
  },
  {
   "cell_type": "markdown",
   "id": "22b4465a",
   "metadata": {},
   "source": [
    "\n",
    "## One-sided stencils at boundaries and ghost-point elimination\n",
    "Two common ways to handle boundaries:\n",
    "1. **One-sided stencil** (no ghost unknowns). Example: d=1 at `x=0` with offsets `[0,1,2,3]` (third-order accurate).\n",
    "2. **Ghost-point relation** with a centered stencil. Example: Neumann `u'(0)=g` with centered stencil `(u_1 - u_{-1})/(2h) = g` ⇒ `u_{-1} = u_1 - 2 h g`.\n",
    "Below we show (1) via moments and (2) via a direct algebraic relation.\n"
   ]
  },
  {
   "cell_type": "code",
   "execution_count": 12,
   "id": "d5f67889",
   "metadata": {},
   "outputs": [
    {
     "name": "stdout",
     "output_type": "stream",
     "text": [
      "one-sided d=1 weights: [-11/6, 3, -3/2, 1/3]\n",
      "order: 3   TE const: 1/4\n"
     ]
    }
   ],
   "source": [
    "\n",
    "# (1) One-sided d=1 with offsets [0,1,2,3]\n",
    "c_os = fd_weights([0,1,2,3], d=1)\n",
    "p_os = None; C_os = None\n",
    "# quick inspector for order/TE constant\n",
    "def leading_error_constant(offsets, d):\n",
    "    s = [sp.nsimplify(si) for si in offsets]\n",
    "    c = fd_weights(s, d)\n",
    "    m = len(s)\n",
    "    k = m\n",
    "    while True:\n",
    "        mom = sp.simplify(sum(c[j]*s[j]**k for j in range(m)))\n",
    "        if mom != 0:\n",
    "            return k - d, sp.simplify(mom/sp.factorial(k))\n",
    "        k += 1\n",
    "\n",
    "p_os, C_os = leading_error_constant([0,1,2,3], d=1)\n",
    "print(\"one-sided d=1 weights:\", list(c_os))\n",
    "print(\"order:\", p_os, \"  TE const:\", C_os)\n"
   ]
  },
  {
   "cell_type": "code",
   "execution_count": 13,
   "id": "ed628211",
   "metadata": {},
   "outputs": [
    {
     "data": {
      "text/latex": [
       "$\\displaystyle - 2 g h + u_{1}$"
      ],
      "text/plain": [
       "-2*g*h + u1"
      ]
     },
     "execution_count": 13,
     "metadata": {},
     "output_type": "execute_result"
    }
   ],
   "source": [
    "\n",
    "# (2) Ghost-point elimination for Neumann: (u_1 - u_{-1})/(2h) = g  ⇒ u_{-1} = u_1 - 2 h g\n",
    "import sympy as sp\n",
    "u1, h, g = sp.symbols('u1 h g')\n",
    "u_minus1 = sp.simplify(u1 - 2*h*g)\n",
    "u_minus1\n"
   ]
  },
  {
   "cell_type": "markdown",
   "id": "2edf1c76",
   "metadata": {},
   "source": [
    "\n",
    "## Cookbook: common central stencils (uniform grid)\n",
    "- d=1, 2nd order, 3-point: `[ -1/2, 0, 1/2 ] / h`\n",
    "- d=1, 4th order, 5-point: `[ 1/12, -2/3, 0, 2/3, -1/12 ] / h`\n",
    "- d=2, 2nd order, 3-point: `[ 1, -2, 1 ] / h^2`\n",
    "- d=2, 4th order, 5-point: `[ -1/12, 4/3, -5/2, 4/3, -1/12 ] / h^2`\n",
    "Use the method of moments to regenerate/verify any of these.\n"
   ]
  },
  {
   "cell_type": "markdown",
   "id": "ac71e580",
   "metadata": {},
   "source": [
    "\n",
    "## Building sparse FD matrices automatically\n",
    "Create a matrix for interior unknowns using given offsets. This is handy for method-of-lines or PDE solvers.\n"
   ]
  },
  {
   "cell_type": "code",
   "execution_count": 14,
   "id": "352fc5b3",
   "metadata": {},
   "outputs": [
    {
     "data": {
      "text/plain": [
       "((50, 50), 244)"
      ]
     },
     "execution_count": 14,
     "metadata": {},
     "output_type": "execute_result"
    }
   ],
   "source": [
    "\n",
    "import numpy as np\n",
    "from scipy.sparse import diags\n",
    "\n",
    "def fd_operator_matrix(n, h, offsets, d):\n",
    "    c = [float(sp.nsimplify(ci)) for ci in fd_weights(offsets, d)]\n",
    "    data = []\n",
    "    diagonals = []\n",
    "    for s, cj in zip(offsets, c):\n",
    "        k = int(s)  # offset is assumed integer here for the matrix pattern\n",
    "        length = n - abs(k)\n",
    "        if length <= 0:\n",
    "            continue\n",
    "        data.append((cj / (h**d)) * np.ones(length))\n",
    "        diagonals.append(k)\n",
    "    A = diags(data, diagonals, shape=(n, n))\n",
    "    return A\n",
    "\n",
    "# Demo: 5-point 2nd derivative (4th order) on n interior points\n",
    "A = fd_operator_matrix(n=50, h=1/51, offsets=[-2,-1,0,1,2], d=2)\n",
    "A.shape, A.nnz\n"
   ]
  },
  {
   "cell_type": "markdown",
   "id": "e5cb69d1",
   "metadata": {},
   "source": [
    "\n",
    "## Dispersion view: modified wavenumber for first-derivative stencils\n",
    "For a Fourier mode `e^{i k x_i}`, a discrete first-derivative operator produces `(i k_tilde) e^{i k x_i}` with\n",
    "\\[\n",
    "k_{\\text{tilde}} h = \\frac{1}{i}\\sum_j c_j e^{i s_j (kh)}.\n",
    "\\]\n",
    "We compare `k_tilde/k` vs `kh` for the 2nd- and 4th-order central stencils.\n"
   ]
  },
  {
   "cell_type": "code",
   "execution_count": 15,
   "id": "8a98a66d",
   "metadata": {},
   "outputs": [
    {
     "name": "stderr",
     "output_type": "stream",
     "text": [
      "/var/folders/r3/b5v1s0gd7kq5f6lbp7zb_4rr0000gn/T/ipykernel_89172/3459026878.py:10: RuntimeWarning: invalid value encountered in true_divide\n",
      "  ratio = np.real(ktilde_h / thetas)  # ratio of ktilde/k (avoid theta=0 separately)\n",
      "/var/folders/r3/b5v1s0gd7kq5f6lbp7zb_4rr0000gn/T/ipykernel_89172/3459026878.py:10: RuntimeWarning: divide by zero encountered in true_divide\n",
      "  ratio = np.real(ktilde_h / thetas)  # ratio of ktilde/k (avoid theta=0 separately)\n"
     ]
    },
    {
     "data": {
      "text/plain": [
       "<matplotlib.legend.Legend at 0x7fdef87b6430>"
      ]
     },
     "execution_count": 15,
     "metadata": {},
     "output_type": "execute_result"
    },
    {
     "data": {
      "image/png": "[encoded data removed]",
      "text/plain": [
       "<Figure size 432x288 with 1 Axes>"
      ]
     },
     "metadata": {
      "needs_background": "light"
     },
     "output_type": "display_data"
    }
   ],
   "source": [
    "\n",
    "import numpy as np\n",
    "import matplotlib.pyplot as plt\n",
    "\n",
    "def modified_wavenumber_ratio(offsets, d, thetas):\n",
    "    c = np.array([float(sp.nsimplify(ci)) for ci in fd_weights(offsets, d)], dtype=complex)\n",
    "    s = np.array(offsets, dtype=float)\n",
    "    # ktilde h = (1/i) * sum c_j * exp(i s_j theta)\n",
    "    omega = np.exp(1j * np.outer(thetas, s)) @ c\n",
    "    ktilde_h = (1.0/1j) * omega\n",
    "    ratio = np.real(ktilde_h / thetas)  # ratio of ktilde/k (avoid theta=0 separately)\n",
    "    ratio[0] = 1.0  # define limit at 0\n",
    "    return ratio\n",
    "\n",
    "thetas = np.linspace(0, np.pi, 400)\n",
    "r2 = modified_wavenumber_ratio([-1,0,1], 1, thetas)   # 2nd-order central\n",
    "r4 = modified_wavenumber_ratio([-2,-1,0,1,2], 1, thetas)  # 4th-order central\n",
    "\n",
    "plt.figure()\n",
    "plt.plot(thetas, r2, label=\"2nd-order central\")\n",
    "plt.plot(thetas, r4, label=\"4th-order central\")\n",
    "plt.xlabel(\"kh\")\n",
    "plt.ylabel(\"k_tilde / k\")\n",
    "plt.title(\"Modified wavenumber ratio (first derivative)\")\n",
    "plt.legend()\n"
   ]
  },
  {
   "cell_type": "markdown",
   "id": "24161563",
   "metadata": {},
   "source": [
    "\n",
    "## Practice problems\n",
    "1. Use `fd_operator_matrix` to build a 1D Laplacian with the 5-point 4th-order stencil and solve a Poisson problem with Dirichlet BCs. Verify the observed order.  \n",
    "2. Derive a one-sided second-derivative stencil at `x=0` with offsets `[0,1,2,3]`. Compare its TE constant to the central 3-point stencil used one cell away from the wall.  \n",
    "3. For the dispersion plot, add the 6th-order central first-derivative stencil and compare `k_tilde/k` across orders.  \n",
    "4. Show that for symmetric offsets and odd `d`, the center coefficient must be zero (prove using the moment system).\n"
   ]
  },
  {
   "cell_type": "markdown",
   "id": "8f8deb6a",
   "metadata": {},
   "source": [
    "*Extended on 2025-08-22 16:25:17*"
   ]
  }
 ],
 "metadata": {
  "kernelspec": {
   "display_name": "Python 3 (ipykernel)",
   "language": "python",
   "name": "python3"
  },
  "language_info": {
   "codemirror_mode": {
    "name": "ipython",
    "version": 3
   },
   "file_extension": ".py",
   "mimetype": "text/x-python",
   "name": "python",
   "nbconvert_exporter": "python",
   "pygments_lexer": "ipython3",
   "version": "3.9.12"
  }
 },
 "nbformat": 4,
 "nbformat_minor": 5
}
